{
 "cells": [
  {
   "cell_type": "code",
   "execution_count": 107,
   "id": "5a35c040",
   "metadata": {},
   "outputs": [],
   "source": [
    "import pandas as pd\n",
    "import numpy as np\n",
    "import matplotlib.pyplot as plt\n",
    "import seaborn as sns"
   ]
  },
  {
   "cell_type": "code",
   "execution_count": 108,
   "id": "e24631ef",
   "metadata": {},
   "outputs": [
    {
     "data": {
      "text/html": [
       "<div>\n",
       "<style scoped>\n",
       "    .dataframe tbody tr th:only-of-type {\n",
       "        vertical-align: middle;\n",
       "    }\n",
       "\n",
       "    .dataframe tbody tr th {\n",
       "        vertical-align: top;\n",
       "    }\n",
       "\n",
       "    .dataframe thead th {\n",
       "        text-align: right;\n",
       "    }\n",
       "</style>\n",
       "<table border=\"1\" class=\"dataframe\">\n",
       "  <thead>\n",
       "    <tr style=\"text-align: right;\">\n",
       "      <th></th>\n",
       "      <th>CompanyName</th>\n",
       "      <th>Financial Department</th>\n",
       "      <th>Financial AccountGroup</th>\n",
       "      <th>VendorName</th>\n",
       "      <th>Amount Month 1</th>\n",
       "      <th>Amount Month 2</th>\n",
       "      <th>Amount Month 3</th>\n",
       "      <th>Amount Month 4</th>\n",
       "      <th>Category</th>\n",
       "    </tr>\n",
       "  </thead>\n",
       "  <tbody>\n",
       "    <tr>\n",
       "      <th>0</th>\n",
       "      <td>B0</td>\n",
       "      <td>D0</td>\n",
       "      <td>C0</td>\n",
       "      <td>E0</td>\n",
       "      <td>930.076541</td>\n",
       "      <td>897.167475</td>\n",
       "      <td>855.332105</td>\n",
       "      <td>837.175251</td>\n",
       "      <td>X0</td>\n",
       "    </tr>\n",
       "    <tr>\n",
       "      <th>1</th>\n",
       "      <td>B0</td>\n",
       "      <td>D0</td>\n",
       "      <td>C0</td>\n",
       "      <td>E1</td>\n",
       "      <td>929.726216</td>\n",
       "      <td>897.167475</td>\n",
       "      <td>856.459905</td>\n",
       "      <td>837.175251</td>\n",
       "      <td>X0</td>\n",
       "    </tr>\n",
       "    <tr>\n",
       "      <th>2</th>\n",
       "      <td>B0</td>\n",
       "      <td>D0</td>\n",
       "      <td>C0</td>\n",
       "      <td>E2</td>\n",
       "      <td>930.076541</td>\n",
       "      <td>897.167475</td>\n",
       "      <td>856.459905</td>\n",
       "      <td>837.096763</td>\n",
       "      <td>X0</td>\n",
       "    </tr>\n",
       "    <tr>\n",
       "      <th>3</th>\n",
       "      <td>B0</td>\n",
       "      <td>D0</td>\n",
       "      <td>C0</td>\n",
       "      <td>E3</td>\n",
       "      <td>926.513586</td>\n",
       "      <td>897.167475</td>\n",
       "      <td>856.459905</td>\n",
       "      <td>837.175251</td>\n",
       "      <td>X0</td>\n",
       "    </tr>\n",
       "    <tr>\n",
       "      <th>4</th>\n",
       "      <td>B0</td>\n",
       "      <td>D0</td>\n",
       "      <td>C1</td>\n",
       "      <td>E4</td>\n",
       "      <td>930.076541</td>\n",
       "      <td>897.167475</td>\n",
       "      <td>856.459905</td>\n",
       "      <td>836.399490</td>\n",
       "      <td>X0</td>\n",
       "    </tr>\n",
       "  </tbody>\n",
       "</table>\n",
       "</div>"
      ],
      "text/plain": [
       "  CompanyName Financial Department Financial AccountGroup VendorName  \\\n",
       "0          B0                   D0                     C0         E0   \n",
       "1          B0                   D0                     C0         E1   \n",
       "2          B0                   D0                     C0         E2   \n",
       "3          B0                   D0                     C0         E3   \n",
       "4          B0                   D0                     C1         E4   \n",
       "\n",
       "   Amount Month 1  Amount Month 2  Amount Month 3  Amount Month 4 Category  \n",
       "0      930.076541      897.167475      855.332105      837.175251       X0  \n",
       "1      929.726216      897.167475      856.459905      837.175251       X0  \n",
       "2      930.076541      897.167475      856.459905      837.096763       X0  \n",
       "3      926.513586      897.167475      856.459905      837.175251       X0  \n",
       "4      930.076541      897.167475      856.459905      836.399490       X0  "
      ]
     },
     "execution_count": 108,
     "metadata": {},
     "output_type": "execute_result"
    }
   ],
   "source": [
    "df = pd.read_excel(\"DataSet for the Data Science Test.xlsx\")\n",
    "df.head()"
   ]
  },
  {
   "cell_type": "code",
   "execution_count": 109,
   "id": "f29622f8",
   "metadata": {},
   "outputs": [
    {
     "data": {
      "text/plain": [
       "Index(['CompanyName', 'Financial Department', 'Financial AccountGroup',\n",
       "       'VendorName', 'Amount Month 1', 'Amount Month 2', 'Amount Month 3',\n",
       "       'Amount Month 4', 'Category'],\n",
       "      dtype='object')"
      ]
     },
     "execution_count": 109,
     "metadata": {},
     "output_type": "execute_result"
    }
   ],
   "source": [
    "df.columns"
   ]
  },
  {
   "cell_type": "code",
   "execution_count": 110,
   "id": "d5b98f9b",
   "metadata": {},
   "outputs": [
    {
     "data": {
      "text/plain": [
       "CompanyName                object\n",
       "Financial Department       object\n",
       "Financial AccountGroup     object\n",
       "VendorName                 object\n",
       "Amount Month 1            float64\n",
       "Amount Month 2            float64\n",
       "Amount Month 3            float64\n",
       "Amount Month 4            float64\n",
       "Category                   object\n",
       "dtype: object"
      ]
     },
     "execution_count": 110,
     "metadata": {},
     "output_type": "execute_result"
    }
   ],
   "source": [
    "df.dtypes"
   ]
  },
  {
   "cell_type": "code",
   "execution_count": 111,
   "id": "bf573f5e",
   "metadata": {},
   "outputs": [
    {
     "data": {
      "text/html": [
       "<div>\n",
       "<style scoped>\n",
       "    .dataframe tbody tr th:only-of-type {\n",
       "        vertical-align: middle;\n",
       "    }\n",
       "\n",
       "    .dataframe tbody tr th {\n",
       "        vertical-align: top;\n",
       "    }\n",
       "\n",
       "    .dataframe thead th {\n",
       "        text-align: right;\n",
       "    }\n",
       "</style>\n",
       "<table border=\"1\" class=\"dataframe\">\n",
       "  <thead>\n",
       "    <tr style=\"text-align: right;\">\n",
       "      <th></th>\n",
       "      <th>count</th>\n",
       "      <th>mean</th>\n",
       "      <th>std</th>\n",
       "      <th>min</th>\n",
       "      <th>25%</th>\n",
       "      <th>50%</th>\n",
       "      <th>75%</th>\n",
       "      <th>max</th>\n",
       "    </tr>\n",
       "  </thead>\n",
       "  <tbody>\n",
       "    <tr>\n",
       "      <th>Amount Month 1</th>\n",
       "      <td>4717.0</td>\n",
       "      <td>911.547581</td>\n",
       "      <td>59.723420</td>\n",
       "      <td>0.000000e+00</td>\n",
       "      <td>927.517998</td>\n",
       "      <td>930.076541</td>\n",
       "      <td>930.076541</td>\n",
       "      <td>1163.521001</td>\n",
       "    </tr>\n",
       "    <tr>\n",
       "      <th>Amount Month 2</th>\n",
       "      <td>4719.0</td>\n",
       "      <td>886.246839</td>\n",
       "      <td>44.102003</td>\n",
       "      <td>4.821640e-14</td>\n",
       "      <td>895.463321</td>\n",
       "      <td>897.167475</td>\n",
       "      <td>897.167475</td>\n",
       "      <td>1303.063344</td>\n",
       "    </tr>\n",
       "    <tr>\n",
       "      <th>Amount Month 3</th>\n",
       "      <td>4718.0</td>\n",
       "      <td>832.403176</td>\n",
       "      <td>62.674567</td>\n",
       "      <td>0.000000e+00</td>\n",
       "      <td>845.248172</td>\n",
       "      <td>856.177985</td>\n",
       "      <td>856.459905</td>\n",
       "      <td>1237.874227</td>\n",
       "    </tr>\n",
       "    <tr>\n",
       "      <th>Amount Month 4</th>\n",
       "      <td>4719.0</td>\n",
       "      <td>815.093683</td>\n",
       "      <td>56.013948</td>\n",
       "      <td>4.821640e-14</td>\n",
       "      <td>825.951329</td>\n",
       "      <td>836.725104</td>\n",
       "      <td>837.175251</td>\n",
       "      <td>1116.250670</td>\n",
       "    </tr>\n",
       "  </tbody>\n",
       "</table>\n",
       "</div>"
      ],
      "text/plain": [
       "                 count        mean        std           min         25%  \\\n",
       "Amount Month 1  4717.0  911.547581  59.723420  0.000000e+00  927.517998   \n",
       "Amount Month 2  4719.0  886.246839  44.102003  4.821640e-14  895.463321   \n",
       "Amount Month 3  4718.0  832.403176  62.674567  0.000000e+00  845.248172   \n",
       "Amount Month 4  4719.0  815.093683  56.013948  4.821640e-14  825.951329   \n",
       "\n",
       "                       50%         75%          max  \n",
       "Amount Month 1  930.076541  930.076541  1163.521001  \n",
       "Amount Month 2  897.167475  897.167475  1303.063344  \n",
       "Amount Month 3  856.177985  856.459905  1237.874227  \n",
       "Amount Month 4  836.725104  837.175251  1116.250670  "
      ]
     },
     "execution_count": 111,
     "metadata": {},
     "output_type": "execute_result"
    }
   ],
   "source": [
    "df.describe().T"
   ]
  },
  {
   "cell_type": "code",
   "execution_count": 112,
   "id": "85dcb169",
   "metadata": {},
   "outputs": [
    {
     "data": {
      "text/plain": [
       "(4720, 9)"
      ]
     },
     "execution_count": 112,
     "metadata": {},
     "output_type": "execute_result"
    }
   ],
   "source": [
    "df.shape"
   ]
  },
  {
   "cell_type": "code",
   "execution_count": 113,
   "id": "6322d1f8",
   "metadata": {},
   "outputs": [
    {
     "data": {
      "text/plain": [
       "CompanyName                  0\n",
       "Financial Department         0\n",
       "Financial AccountGroup       0\n",
       "VendorName                   0\n",
       "Amount Month 1               3\n",
       "Amount Month 2               1\n",
       "Amount Month 3               2\n",
       "Amount Month 4               1\n",
       "Category                  1025\n",
       "dtype: int64"
      ]
     },
     "execution_count": 113,
     "metadata": {},
     "output_type": "execute_result"
    }
   ],
   "source": [
    "#Checking the data for null values or zero values\n",
    "df.isnull().sum()"
   ]
  },
  {
   "cell_type": "code",
   "execution_count": 114,
   "id": "cfd4b165",
   "metadata": {
    "scrolled": true
   },
   "outputs": [
    {
     "data": {
      "text/html": [
       "<div>\n",
       "<style scoped>\n",
       "    .dataframe tbody tr th:only-of-type {\n",
       "        vertical-align: middle;\n",
       "    }\n",
       "\n",
       "    .dataframe tbody tr th {\n",
       "        vertical-align: top;\n",
       "    }\n",
       "\n",
       "    .dataframe thead th {\n",
       "        text-align: right;\n",
       "    }\n",
       "</style>\n",
       "<table border=\"1\" class=\"dataframe\">\n",
       "  <thead>\n",
       "    <tr style=\"text-align: right;\">\n",
       "      <th></th>\n",
       "      <th>CompanyName</th>\n",
       "      <th>Financial Department</th>\n",
       "      <th>Financial AccountGroup</th>\n",
       "      <th>VendorName</th>\n",
       "      <th>Amount Month 1</th>\n",
       "      <th>Amount Month 2</th>\n",
       "      <th>Amount Month 3</th>\n",
       "      <th>Amount Month 4</th>\n",
       "      <th>Category</th>\n",
       "    </tr>\n",
       "  </thead>\n",
       "  <tbody>\n",
       "    <tr>\n",
       "      <th>0</th>\n",
       "      <td>B0</td>\n",
       "      <td>D0</td>\n",
       "      <td>C0</td>\n",
       "      <td>E0</td>\n",
       "      <td>930.076541</td>\n",
       "      <td>897.167475</td>\n",
       "      <td>855.332105</td>\n",
       "      <td>837.175251</td>\n",
       "      <td>X0</td>\n",
       "    </tr>\n",
       "    <tr>\n",
       "      <th>1</th>\n",
       "      <td>B0</td>\n",
       "      <td>D0</td>\n",
       "      <td>C0</td>\n",
       "      <td>E1</td>\n",
       "      <td>929.726216</td>\n",
       "      <td>897.167475</td>\n",
       "      <td>856.459905</td>\n",
       "      <td>837.175251</td>\n",
       "      <td>X0</td>\n",
       "    </tr>\n",
       "    <tr>\n",
       "      <th>2</th>\n",
       "      <td>B0</td>\n",
       "      <td>D0</td>\n",
       "      <td>C0</td>\n",
       "      <td>E2</td>\n",
       "      <td>930.076541</td>\n",
       "      <td>897.167475</td>\n",
       "      <td>856.459905</td>\n",
       "      <td>837.096763</td>\n",
       "      <td>X0</td>\n",
       "    </tr>\n",
       "    <tr>\n",
       "      <th>3</th>\n",
       "      <td>B0</td>\n",
       "      <td>D0</td>\n",
       "      <td>C0</td>\n",
       "      <td>E3</td>\n",
       "      <td>926.513586</td>\n",
       "      <td>897.167475</td>\n",
       "      <td>856.459905</td>\n",
       "      <td>837.175251</td>\n",
       "      <td>X0</td>\n",
       "    </tr>\n",
       "    <tr>\n",
       "      <th>4</th>\n",
       "      <td>B0</td>\n",
       "      <td>D0</td>\n",
       "      <td>C1</td>\n",
       "      <td>E4</td>\n",
       "      <td>930.076541</td>\n",
       "      <td>897.167475</td>\n",
       "      <td>856.459905</td>\n",
       "      <td>836.399490</td>\n",
       "      <td>X0</td>\n",
       "    </tr>\n",
       "    <tr>\n",
       "      <th>...</th>\n",
       "      <td>...</td>\n",
       "      <td>...</td>\n",
       "      <td>...</td>\n",
       "      <td>...</td>\n",
       "      <td>...</td>\n",
       "      <td>...</td>\n",
       "      <td>...</td>\n",
       "      <td>...</td>\n",
       "      <td>...</td>\n",
       "    </tr>\n",
       "    <tr>\n",
       "      <th>4715</th>\n",
       "      <td>B8</td>\n",
       "      <td>D15</td>\n",
       "      <td>C4</td>\n",
       "      <td>E1505</td>\n",
       "      <td>816.780325</td>\n",
       "      <td>846.908198</td>\n",
       "      <td>747.866497</td>\n",
       "      <td>738.087166</td>\n",
       "      <td>NaN</td>\n",
       "    </tr>\n",
       "    <tr>\n",
       "      <th>4716</th>\n",
       "      <td>B8</td>\n",
       "      <td>D15</td>\n",
       "      <td>C4</td>\n",
       "      <td>E1506</td>\n",
       "      <td>743.441494</td>\n",
       "      <td>804.010713</td>\n",
       "      <td>666.495417</td>\n",
       "      <td>657.722959</td>\n",
       "      <td>NaN</td>\n",
       "    </tr>\n",
       "    <tr>\n",
       "      <th>4717</th>\n",
       "      <td>B8</td>\n",
       "      <td>D15</td>\n",
       "      <td>C4</td>\n",
       "      <td>E1507</td>\n",
       "      <td>801.134982</td>\n",
       "      <td>837.856874</td>\n",
       "      <td>794.708694</td>\n",
       "      <td>837.175251</td>\n",
       "      <td>NaN</td>\n",
       "    </tr>\n",
       "    <tr>\n",
       "      <th>4718</th>\n",
       "      <td>B8</td>\n",
       "      <td>D15</td>\n",
       "      <td>C4</td>\n",
       "      <td>E486</td>\n",
       "      <td>930.076541</td>\n",
       "      <td>897.167475</td>\n",
       "      <td>856.459905</td>\n",
       "      <td>832.326991</td>\n",
       "      <td>NaN</td>\n",
       "    </tr>\n",
       "    <tr>\n",
       "      <th>4719</th>\n",
       "      <td>B8</td>\n",
       "      <td>D15</td>\n",
       "      <td>C5</td>\n",
       "      <td>E32</td>\n",
       "      <td>930.076541</td>\n",
       "      <td>897.107541</td>\n",
       "      <td>856.459905</td>\n",
       "      <td>837.175251</td>\n",
       "      <td>NaN</td>\n",
       "    </tr>\n",
       "  </tbody>\n",
       "</table>\n",
       "<p>4720 rows × 9 columns</p>\n",
       "</div>"
      ],
      "text/plain": [
       "     CompanyName Financial Department Financial AccountGroup VendorName  \\\n",
       "0             B0                   D0                     C0         E0   \n",
       "1             B0                   D0                     C0         E1   \n",
       "2             B0                   D0                     C0         E2   \n",
       "3             B0                   D0                     C0         E3   \n",
       "4             B0                   D0                     C1         E4   \n",
       "...          ...                  ...                    ...        ...   \n",
       "4715          B8                  D15                     C4      E1505   \n",
       "4716          B8                  D15                     C4      E1506   \n",
       "4717          B8                  D15                     C4      E1507   \n",
       "4718          B8                  D15                     C4       E486   \n",
       "4719          B8                  D15                     C5        E32   \n",
       "\n",
       "      Amount Month 1  Amount Month 2  Amount Month 3  Amount Month 4 Category  \n",
       "0         930.076541      897.167475      855.332105      837.175251       X0  \n",
       "1         929.726216      897.167475      856.459905      837.175251       X0  \n",
       "2         930.076541      897.167475      856.459905      837.096763       X0  \n",
       "3         926.513586      897.167475      856.459905      837.175251       X0  \n",
       "4         930.076541      897.167475      856.459905      836.399490       X0  \n",
       "...              ...             ...             ...             ...      ...  \n",
       "4715      816.780325      846.908198      747.866497      738.087166      NaN  \n",
       "4716      743.441494      804.010713      666.495417      657.722959      NaN  \n",
       "4717      801.134982      837.856874      794.708694      837.175251      NaN  \n",
       "4718      930.076541      897.167475      856.459905      832.326991      NaN  \n",
       "4719      930.076541      897.107541      856.459905      837.175251      NaN  \n",
       "\n",
       "[4720 rows x 9 columns]"
      ]
     },
     "execution_count": 114,
     "metadata": {},
     "output_type": "execute_result"
    }
   ],
   "source": [
    "df"
   ]
  },
  {
   "cell_type": "code",
   "execution_count": 115,
   "id": "2c984516",
   "metadata": {},
   "outputs": [],
   "source": [
    "#remove null values\n",
    "df.dropna(inplace=True)"
   ]
  },
  {
   "cell_type": "code",
   "execution_count": 116,
   "id": "5bc13210",
   "metadata": {},
   "outputs": [],
   "source": [
    "# Initiating the variables\n",
    "x = df.drop(['Category'], axis = 1)\n",
    "y = df ['Category'].values.reshape(-1, 1)"
   ]
  },
  {
   "cell_type": "code",
   "execution_count": 117,
   "id": "d6ba084d",
   "metadata": {},
   "outputs": [],
   "source": [
    "#spliting the Dataset into training set and test set\n",
    "from sklearn.model_selection import train_test_split\n",
    "X_train , X_test , y_train , y_test = train_test_split(x, y, test_size = 0.2, random_state = 42)"
   ]
  },
  {
   "cell_type": "code",
   "execution_count": 118,
   "id": "196a1bf8",
   "metadata": {
    "scrolled": true
   },
   "outputs": [
    {
     "data": {
      "text/html": [
       "<div>\n",
       "<style scoped>\n",
       "    .dataframe tbody tr th:only-of-type {\n",
       "        vertical-align: middle;\n",
       "    }\n",
       "\n",
       "    .dataframe tbody tr th {\n",
       "        vertical-align: top;\n",
       "    }\n",
       "\n",
       "    .dataframe thead th {\n",
       "        text-align: right;\n",
       "    }\n",
       "</style>\n",
       "<table border=\"1\" class=\"dataframe\">\n",
       "  <thead>\n",
       "    <tr style=\"text-align: right;\">\n",
       "      <th></th>\n",
       "      <th>CompanyName</th>\n",
       "      <th>Financial Department</th>\n",
       "      <th>Financial AccountGroup</th>\n",
       "      <th>VendorName</th>\n",
       "      <th>Amount Month 1</th>\n",
       "      <th>Amount Month 2</th>\n",
       "      <th>Amount Month 3</th>\n",
       "      <th>Amount Month 4</th>\n",
       "      <th>Category</th>\n",
       "    </tr>\n",
       "  </thead>\n",
       "  <tbody>\n",
       "    <tr>\n",
       "      <th>0</th>\n",
       "      <td>B0</td>\n",
       "      <td>D0</td>\n",
       "      <td>C0</td>\n",
       "      <td>E0</td>\n",
       "      <td>930.076541</td>\n",
       "      <td>897.167475</td>\n",
       "      <td>855.332105</td>\n",
       "      <td>837.175251</td>\n",
       "      <td>X0</td>\n",
       "    </tr>\n",
       "    <tr>\n",
       "      <th>1</th>\n",
       "      <td>B0</td>\n",
       "      <td>D0</td>\n",
       "      <td>C0</td>\n",
       "      <td>E1</td>\n",
       "      <td>929.726216</td>\n",
       "      <td>897.167475</td>\n",
       "      <td>856.459905</td>\n",
       "      <td>837.175251</td>\n",
       "      <td>X0</td>\n",
       "    </tr>\n",
       "    <tr>\n",
       "      <th>2</th>\n",
       "      <td>B0</td>\n",
       "      <td>D0</td>\n",
       "      <td>C0</td>\n",
       "      <td>E2</td>\n",
       "      <td>930.076541</td>\n",
       "      <td>897.167475</td>\n",
       "      <td>856.459905</td>\n",
       "      <td>837.096763</td>\n",
       "      <td>X0</td>\n",
       "    </tr>\n",
       "    <tr>\n",
       "      <th>3</th>\n",
       "      <td>B0</td>\n",
       "      <td>D0</td>\n",
       "      <td>C0</td>\n",
       "      <td>E3</td>\n",
       "      <td>926.513586</td>\n",
       "      <td>897.167475</td>\n",
       "      <td>856.459905</td>\n",
       "      <td>837.175251</td>\n",
       "      <td>X0</td>\n",
       "    </tr>\n",
       "    <tr>\n",
       "      <th>4</th>\n",
       "      <td>B0</td>\n",
       "      <td>D0</td>\n",
       "      <td>C1</td>\n",
       "      <td>E4</td>\n",
       "      <td>930.076541</td>\n",
       "      <td>897.167475</td>\n",
       "      <td>856.459905</td>\n",
       "      <td>836.399490</td>\n",
       "      <td>X0</td>\n",
       "    </tr>\n",
       "  </tbody>\n",
       "</table>\n",
       "</div>"
      ],
      "text/plain": [
       "  CompanyName Financial Department Financial AccountGroup VendorName  \\\n",
       "0          B0                   D0                     C0         E0   \n",
       "1          B0                   D0                     C0         E1   \n",
       "2          B0                   D0                     C0         E2   \n",
       "3          B0                   D0                     C0         E3   \n",
       "4          B0                   D0                     C1         E4   \n",
       "\n",
       "   Amount Month 1  Amount Month 2  Amount Month 3  Amount Month 4 Category  \n",
       "0      930.076541      897.167475      855.332105      837.175251       X0  \n",
       "1      929.726216      897.167475      856.459905      837.175251       X0  \n",
       "2      930.076541      897.167475      856.459905      837.096763       X0  \n",
       "3      926.513586      897.167475      856.459905      837.175251       X0  \n",
       "4      930.076541      897.167475      856.459905      836.399490       X0  "
      ]
     },
     "execution_count": 118,
     "metadata": {},
     "output_type": "execute_result"
    }
   ],
   "source": [
    "df.head()"
   ]
  },
  {
   "cell_type": "code",
   "execution_count": 119,
   "id": "0ee1a3b7",
   "metadata": {},
   "outputs": [
    {
     "data": {
      "text/plain": [
       "(array([0, 1, 2, 3, 4]),\n",
       " [Text(0, 0, 'X0'),\n",
       "  Text(1, 0, 'X1'),\n",
       "  Text(2, 0, 'X2'),\n",
       "  Text(3, 0, 'X3'),\n",
       "  Text(4, 0, 'X4')])"
      ]
     },
     "execution_count": 119,
     "metadata": {},
     "output_type": "execute_result"
    },
    {
     "data": {
      "image/png": "[encoded data removed]",
      "text/plain": [
       "<Figure size 720x432 with 1 Axes>"
      ]
     },
     "metadata": {
      "needs_background": "light"
     },
     "output_type": "display_data"
    }
   ],
   "source": [
    "#Visualiozation\n",
    "plt.figure(figsize = (10, 6))\n",
    "sns.countplot(x = df['Category'])\n",
    "plt.ylabel('VendorName')\n",
    "plt.xticks(rotation = 45)"
   ]
  },
  {
   "cell_type": "code",
   "execution_count": 136,
   "id": "3194f1a6",
   "metadata": {},
   "outputs": [
    {
     "data": {
      "text/plain": [
       "<AxesSubplot:>"
      ]
     },
     "execution_count": 136,
     "metadata": {},
     "output_type": "execute_result"
    },
    {
     "data": {
      "image/png": "[encoded data removed]",
      "text/plain": [
       "<Figure size 1080x720 with 2 Axes>"
      ]
     },
     "metadata": {
      "needs_background": "light"
     },
     "output_type": "display_data"
    }
   ],
   "source": [
    "corr = df.corr()\n",
    "plt.figure(figsize = (15,10))\n",
    "sns.heatmap(corr,annot=True)"
   ]
  },
  {
   "cell_type": "code",
   "execution_count": 120,
   "id": "3538af6c",
   "metadata": {},
   "outputs": [
    {
     "name": "stderr",
     "output_type": "stream",
     "text": [
      "C:\\Users\\ideapad\\anaconda3\\lib\\site-packages\\seaborn\\distributions.py:2557: FutureWarning: `distplot` is a deprecated function and will be removed in a future version. Please adapt your code to use either `displot` (a figure-level function with similar flexibility) or `histplot` (an axes-level function for histograms).\n",
      "  warnings.warn(msg, FutureWarning)\n"
     ]
    },
    {
     "data": {
      "text/plain": [
       "<AxesSubplot:xlabel='Amount Month 1', ylabel='Density'>"
      ]
     },
     "execution_count": 120,
     "metadata": {},
     "output_type": "execute_result"
    },
    {
     "data": {
      "image/png": "[encoded data removed]",
      "text/plain": [
       "<Figure size 432x288 with 1 Axes>"
      ]
     },
     "metadata": {
      "needs_background": "light"
     },
     "output_type": "display_data"
    }
   ],
   "source": [
    "sns.distplot(df['Amount Month 1'])"
   ]
  },
  {
   "cell_type": "code",
   "execution_count": 121,
   "id": "ba87a14b",
   "metadata": {},
   "outputs": [
    {
     "name": "stderr",
     "output_type": "stream",
     "text": [
      "C:\\Users\\ideapad\\anaconda3\\lib\\site-packages\\seaborn\\distributions.py:2557: FutureWarning: `distplot` is a deprecated function and will be removed in a future version. Please adapt your code to use either `displot` (a figure-level function with similar flexibility) or `histplot` (an axes-level function for histograms).\n",
      "  warnings.warn(msg, FutureWarning)\n"
     ]
    },
    {
     "data": {
      "text/plain": [
       "<AxesSubplot:xlabel='Amount Month 2', ylabel='Density'>"
      ]
     },
     "execution_count": 121,
     "metadata": {},
     "output_type": "execute_result"
    },
    {
     "data": {
      "image/png": "[encoded data removed]",
      "text/plain": [
       "<Figure size 432x288 with 1 Axes>"
      ]
     },
     "metadata": {
      "needs_background": "light"
     },
     "output_type": "display_data"
    }
   ],
   "source": [
    "sns.distplot(df['Amount Month 2'])"
   ]
  },
  {
   "cell_type": "code",
   "execution_count": 122,
   "id": "db6c40da",
   "metadata": {},
   "outputs": [
    {
     "name": "stderr",
     "output_type": "stream",
     "text": [
      "C:\\Users\\ideapad\\anaconda3\\lib\\site-packages\\seaborn\\distributions.py:2557: FutureWarning: `distplot` is a deprecated function and will be removed in a future version. Please adapt your code to use either `displot` (a figure-level function with similar flexibility) or `histplot` (an axes-level function for histograms).\n",
      "  warnings.warn(msg, FutureWarning)\n"
     ]
    },
    {
     "data": {
      "text/plain": [
       "<AxesSubplot:xlabel='Amount Month 3', ylabel='Density'>"
      ]
     },
     "execution_count": 122,
     "metadata": {},
     "output_type": "execute_result"
    },
    {
     "data": {
      "image/png": "[encoded data removed]",
      "text/plain": [
       "<Figure size 432x288 with 1 Axes>"
      ]
     },
     "metadata": {
      "needs_background": "light"
     },
     "output_type": "display_data"
    }
   ],
   "source": [
    "sns.distplot(df['Amount Month 3'])"
   ]
  },
  {
   "cell_type": "code",
   "execution_count": 123,
   "id": "c57e7f63",
   "metadata": {},
   "outputs": [
    {
     "name": "stderr",
     "output_type": "stream",
     "text": [
      "C:\\Users\\ideapad\\anaconda3\\lib\\site-packages\\seaborn\\distributions.py:2557: FutureWarning: `distplot` is a deprecated function and will be removed in a future version. Please adapt your code to use either `displot` (a figure-level function with similar flexibility) or `histplot` (an axes-level function for histograms).\n",
      "  warnings.warn(msg, FutureWarning)\n"
     ]
    },
    {
     "data": {
      "text/plain": [
       "<AxesSubplot:xlabel='Amount Month 4', ylabel='Density'>"
      ]
     },
     "execution_count": 123,
     "metadata": {},
     "output_type": "execute_result"
    },
    {
     "data": {
      "image/png": "[encoded data removed]",
      "text/plain": [
       "<Figure size 432x288 with 1 Axes>"
      ]
     },
     "metadata": {
      "needs_background": "light"
     },
     "output_type": "display_data"
    }
   ],
   "source": [
    "sns.distplot(df['Amount Month 4'])"
   ]
  },
  {
   "cell_type": "code",
   "execution_count": 124,
   "id": "b2aaf0bd",
   "metadata": {},
   "outputs": [
    {
     "data": {
      "text/html": [
       "<div>\n",
       "<style scoped>\n",
       "    .dataframe tbody tr th:only-of-type {\n",
       "        vertical-align: middle;\n",
       "    }\n",
       "\n",
       "    .dataframe tbody tr th {\n",
       "        vertical-align: top;\n",
       "    }\n",
       "\n",
       "    .dataframe thead th {\n",
       "        text-align: right;\n",
       "    }\n",
       "</style>\n",
       "<table border=\"1\" class=\"dataframe\">\n",
       "  <thead>\n",
       "    <tr style=\"text-align: right;\">\n",
       "      <th></th>\n",
       "      <th>CompanyName</th>\n",
       "      <th>Financial Department</th>\n",
       "      <th>Financial AccountGroup</th>\n",
       "      <th>VendorName</th>\n",
       "      <th>Amount Month 1</th>\n",
       "      <th>Amount Month 2</th>\n",
       "      <th>Amount Month 3</th>\n",
       "      <th>Amount Month 4</th>\n",
       "      <th>Category</th>\n",
       "    </tr>\n",
       "  </thead>\n",
       "  <tbody>\n",
       "    <tr>\n",
       "      <th>0</th>\n",
       "      <td>B0</td>\n",
       "      <td>D0</td>\n",
       "      <td>C0</td>\n",
       "      <td>E0</td>\n",
       "      <td>930.076541</td>\n",
       "      <td>897.167475</td>\n",
       "      <td>855.332105</td>\n",
       "      <td>837.175251</td>\n",
       "      <td>X0</td>\n",
       "    </tr>\n",
       "    <tr>\n",
       "      <th>1</th>\n",
       "      <td>B0</td>\n",
       "      <td>D0</td>\n",
       "      <td>C0</td>\n",
       "      <td>E1</td>\n",
       "      <td>929.726216</td>\n",
       "      <td>897.167475</td>\n",
       "      <td>856.459905</td>\n",
       "      <td>837.175251</td>\n",
       "      <td>X0</td>\n",
       "    </tr>\n",
       "    <tr>\n",
       "      <th>2</th>\n",
       "      <td>B0</td>\n",
       "      <td>D0</td>\n",
       "      <td>C0</td>\n",
       "      <td>E2</td>\n",
       "      <td>930.076541</td>\n",
       "      <td>897.167475</td>\n",
       "      <td>856.459905</td>\n",
       "      <td>837.096763</td>\n",
       "      <td>X0</td>\n",
       "    </tr>\n",
       "    <tr>\n",
       "      <th>3</th>\n",
       "      <td>B0</td>\n",
       "      <td>D0</td>\n",
       "      <td>C0</td>\n",
       "      <td>E3</td>\n",
       "      <td>926.513586</td>\n",
       "      <td>897.167475</td>\n",
       "      <td>856.459905</td>\n",
       "      <td>837.175251</td>\n",
       "      <td>X0</td>\n",
       "    </tr>\n",
       "    <tr>\n",
       "      <th>4</th>\n",
       "      <td>B0</td>\n",
       "      <td>D0</td>\n",
       "      <td>C1</td>\n",
       "      <td>E4</td>\n",
       "      <td>930.076541</td>\n",
       "      <td>897.167475</td>\n",
       "      <td>856.459905</td>\n",
       "      <td>836.399490</td>\n",
       "      <td>X0</td>\n",
       "    </tr>\n",
       "    <tr>\n",
       "      <th>...</th>\n",
       "      <td>...</td>\n",
       "      <td>...</td>\n",
       "      <td>...</td>\n",
       "      <td>...</td>\n",
       "      <td>...</td>\n",
       "      <td>...</td>\n",
       "      <td>...</td>\n",
       "      <td>...</td>\n",
       "      <td>...</td>\n",
       "    </tr>\n",
       "    <tr>\n",
       "      <th>3690</th>\n",
       "      <td>B5</td>\n",
       "      <td>D11</td>\n",
       "      <td>C5</td>\n",
       "      <td>E29</td>\n",
       "      <td>930.076541</td>\n",
       "      <td>897.167475</td>\n",
       "      <td>856.459905</td>\n",
       "      <td>830.824465</td>\n",
       "      <td>X1</td>\n",
       "    </tr>\n",
       "    <tr>\n",
       "      <th>3691</th>\n",
       "      <td>B5</td>\n",
       "      <td>D4</td>\n",
       "      <td>C9</td>\n",
       "      <td>E84</td>\n",
       "      <td>560.500815</td>\n",
       "      <td>662.705398</td>\n",
       "      <td>433.427933</td>\n",
       "      <td>423.173581</td>\n",
       "      <td>X1</td>\n",
       "    </tr>\n",
       "    <tr>\n",
       "      <th>3692</th>\n",
       "      <td>B5</td>\n",
       "      <td>D4</td>\n",
       "      <td>C9</td>\n",
       "      <td>E85</td>\n",
       "      <td>930.076541</td>\n",
       "      <td>897.167475</td>\n",
       "      <td>856.459905</td>\n",
       "      <td>837.175251</td>\n",
       "      <td>X0</td>\n",
       "    </tr>\n",
       "    <tr>\n",
       "      <th>3693</th>\n",
       "      <td>B5</td>\n",
       "      <td>D4</td>\n",
       "      <td>C9</td>\n",
       "      <td>E86</td>\n",
       "      <td>983.394865</td>\n",
       "      <td>914.078289</td>\n",
       "      <td>894.023282</td>\n",
       "      <td>867.127306</td>\n",
       "      <td>X1</td>\n",
       "    </tr>\n",
       "    <tr>\n",
       "      <th>3694</th>\n",
       "      <td>B5</td>\n",
       "      <td>D4</td>\n",
       "      <td>C9</td>\n",
       "      <td>E87</td>\n",
       "      <td>909.340532</td>\n",
       "      <td>897.167475</td>\n",
       "      <td>856.459905</td>\n",
       "      <td>808.989727</td>\n",
       "      <td>X1</td>\n",
       "    </tr>\n",
       "  </tbody>\n",
       "</table>\n",
       "<p>3693 rows × 9 columns</p>\n",
       "</div>"
      ],
      "text/plain": [
       "     CompanyName Financial Department Financial AccountGroup VendorName  \\\n",
       "0             B0                   D0                     C0         E0   \n",
       "1             B0                   D0                     C0         E1   \n",
       "2             B0                   D0                     C0         E2   \n",
       "3             B0                   D0                     C0         E3   \n",
       "4             B0                   D0                     C1         E4   \n",
       "...          ...                  ...                    ...        ...   \n",
       "3690          B5                  D11                     C5        E29   \n",
       "3691          B5                   D4                     C9        E84   \n",
       "3692          B5                   D4                     C9        E85   \n",
       "3693          B5                   D4                     C9        E86   \n",
       "3694          B5                   D4                     C9        E87   \n",
       "\n",
       "      Amount Month 1  Amount Month 2  Amount Month 3  Amount Month 4 Category  \n",
       "0         930.076541      897.167475      855.332105      837.175251       X0  \n",
       "1         929.726216      897.167475      856.459905      837.175251       X0  \n",
       "2         930.076541      897.167475      856.459905      837.096763       X0  \n",
       "3         926.513586      897.167475      856.459905      837.175251       X0  \n",
       "4         930.076541      897.167475      856.459905      836.399490       X0  \n",
       "...              ...             ...             ...             ...      ...  \n",
       "3690      930.076541      897.167475      856.459905      830.824465       X1  \n",
       "3691      560.500815      662.705398      433.427933      423.173581       X1  \n",
       "3692      930.076541      897.167475      856.459905      837.175251       X0  \n",
       "3693      983.394865      914.078289      894.023282      867.127306       X1  \n",
       "3694      909.340532      897.167475      856.459905      808.989727       X1  \n",
       "\n",
       "[3693 rows x 9 columns]"
      ]
     },
     "execution_count": 124,
     "metadata": {},
     "output_type": "execute_result"
    }
   ],
   "source": [
    "df"
   ]
  },
  {
   "cell_type": "code",
   "execution_count": 125,
   "id": "cddf674b",
   "metadata": {},
   "outputs": [],
   "source": [
    "# import required libraries\n",
    "from sklearn.ensemble import RandomForestClassifier\n",
    "from sklearn.datasets import make_classification\n",
    "from sklearn.model_selection import train_test_split\n",
    "from sklearn.metrics import accuracy_score"
   ]
  },
  {
   "cell_type": "code",
   "execution_count": 126,
   "id": "b6ea7f8e",
   "metadata": {},
   "outputs": [],
   "source": [
    "# generate some sample data\n",
    "X, y = make_classification(n_samples=1000, n_features=10, random_state=42)"
   ]
  },
  {
   "cell_type": "code",
   "execution_count": 127,
   "id": "ab342ca8",
   "metadata": {},
   "outputs": [],
   "source": [
    "# split the data into training and testing sets\n",
    "X_train, X_test, y_train, y_test = train_test_split(X, y, test_size=0.2, random_state=42)"
   ]
  },
  {
   "cell_type": "code",
   "execution_count": 128,
   "id": "7a6abdbe",
   "metadata": {},
   "outputs": [],
   "source": [
    "# create a random forest classifier with 100 trees\n",
    "rfc = RandomForestClassifier(n_estimators=100, random_state=42)"
   ]
  },
  {
   "cell_type": "code",
   "execution_count": 129,
   "id": "fe20073c",
   "metadata": {},
   "outputs": [
    {
     "data": {
      "text/plain": [
       "RandomForestClassifier(random_state=42)"
      ]
     },
     "execution_count": 129,
     "metadata": {},
     "output_type": "execute_result"
    }
   ],
   "source": [
    "# fit the classifier to the training data\n",
    "rfc.fit(X_train, y_train)"
   ]
  },
  {
   "cell_type": "code",
   "execution_count": 130,
   "id": "b515d006",
   "metadata": {},
   "outputs": [],
   "source": [
    "# use the classifier to make predictions on the testing data\n",
    "y_pred = rfc.predict(X_test)"
   ]
  },
  {
   "cell_type": "code",
   "execution_count": 131,
   "id": "85563a95",
   "metadata": {},
   "outputs": [
    {
     "name": "stdout",
     "output_type": "stream",
     "text": [
      "Accuracy: 0.88\n"
     ]
    }
   ],
   "source": [
    "# evaluate the accuracy of the classifier\n",
    "accuracy = accuracy_score(y_test, y_pred)\n",
    "print(f\"Accuracy: {accuracy}\")"
   ]
  },
  {
   "cell_type": "code",
   "execution_count": 132,
   "id": "6894d0ae",
   "metadata": {},
   "outputs": [
    {
     "data": {
      "text/html": [
       "<div>\n",
       "<style scoped>\n",
       "    .dataframe tbody tr th:only-of-type {\n",
       "        vertical-align: middle;\n",
       "    }\n",
       "\n",
       "    .dataframe tbody tr th {\n",
       "        vertical-align: top;\n",
       "    }\n",
       "\n",
       "    .dataframe thead th {\n",
       "        text-align: right;\n",
       "    }\n",
       "</style>\n",
       "<table border=\"1\" class=\"dataframe\">\n",
       "  <thead>\n",
       "    <tr style=\"text-align: right;\">\n",
       "      <th></th>\n",
       "      <th>CompanyName</th>\n",
       "      <th>Financial Department</th>\n",
       "      <th>Financial AccountGroup</th>\n",
       "      <th>VendorName</th>\n",
       "      <th>Amount Month 1</th>\n",
       "      <th>Amount Month 2</th>\n",
       "      <th>Amount Month 3</th>\n",
       "      <th>Amount Month 4</th>\n",
       "      <th>Category</th>\n",
       "    </tr>\n",
       "  </thead>\n",
       "  <tbody>\n",
       "    <tr>\n",
       "      <th>0</th>\n",
       "      <td>B0</td>\n",
       "      <td>D0</td>\n",
       "      <td>C0</td>\n",
       "      <td>E0</td>\n",
       "      <td>930.076541</td>\n",
       "      <td>897.167475</td>\n",
       "      <td>855.332105</td>\n",
       "      <td>837.175251</td>\n",
       "      <td>X0</td>\n",
       "    </tr>\n",
       "    <tr>\n",
       "      <th>1</th>\n",
       "      <td>B0</td>\n",
       "      <td>D0</td>\n",
       "      <td>C0</td>\n",
       "      <td>E1</td>\n",
       "      <td>929.726216</td>\n",
       "      <td>897.167475</td>\n",
       "      <td>856.459905</td>\n",
       "      <td>837.175251</td>\n",
       "      <td>X0</td>\n",
       "    </tr>\n",
       "    <tr>\n",
       "      <th>2</th>\n",
       "      <td>B0</td>\n",
       "      <td>D0</td>\n",
       "      <td>C0</td>\n",
       "      <td>E2</td>\n",
       "      <td>930.076541</td>\n",
       "      <td>897.167475</td>\n",
       "      <td>856.459905</td>\n",
       "      <td>837.096763</td>\n",
       "      <td>X0</td>\n",
       "    </tr>\n",
       "    <tr>\n",
       "      <th>3</th>\n",
       "      <td>B0</td>\n",
       "      <td>D0</td>\n",
       "      <td>C0</td>\n",
       "      <td>E3</td>\n",
       "      <td>926.513586</td>\n",
       "      <td>897.167475</td>\n",
       "      <td>856.459905</td>\n",
       "      <td>837.175251</td>\n",
       "      <td>X0</td>\n",
       "    </tr>\n",
       "    <tr>\n",
       "      <th>4</th>\n",
       "      <td>B0</td>\n",
       "      <td>D0</td>\n",
       "      <td>C1</td>\n",
       "      <td>E4</td>\n",
       "      <td>930.076541</td>\n",
       "      <td>897.167475</td>\n",
       "      <td>856.459905</td>\n",
       "      <td>836.399490</td>\n",
       "      <td>X0</td>\n",
       "    </tr>\n",
       "    <tr>\n",
       "      <th>...</th>\n",
       "      <td>...</td>\n",
       "      <td>...</td>\n",
       "      <td>...</td>\n",
       "      <td>...</td>\n",
       "      <td>...</td>\n",
       "      <td>...</td>\n",
       "      <td>...</td>\n",
       "      <td>...</td>\n",
       "      <td>...</td>\n",
       "    </tr>\n",
       "    <tr>\n",
       "      <th>3690</th>\n",
       "      <td>B5</td>\n",
       "      <td>D11</td>\n",
       "      <td>C5</td>\n",
       "      <td>E29</td>\n",
       "      <td>930.076541</td>\n",
       "      <td>897.167475</td>\n",
       "      <td>856.459905</td>\n",
       "      <td>830.824465</td>\n",
       "      <td>X1</td>\n",
       "    </tr>\n",
       "    <tr>\n",
       "      <th>3691</th>\n",
       "      <td>B5</td>\n",
       "      <td>D4</td>\n",
       "      <td>C9</td>\n",
       "      <td>E84</td>\n",
       "      <td>560.500815</td>\n",
       "      <td>662.705398</td>\n",
       "      <td>433.427933</td>\n",
       "      <td>423.173581</td>\n",
       "      <td>X1</td>\n",
       "    </tr>\n",
       "    <tr>\n",
       "      <th>3692</th>\n",
       "      <td>B5</td>\n",
       "      <td>D4</td>\n",
       "      <td>C9</td>\n",
       "      <td>E85</td>\n",
       "      <td>930.076541</td>\n",
       "      <td>897.167475</td>\n",
       "      <td>856.459905</td>\n",
       "      <td>837.175251</td>\n",
       "      <td>X0</td>\n",
       "    </tr>\n",
       "    <tr>\n",
       "      <th>3693</th>\n",
       "      <td>B5</td>\n",
       "      <td>D4</td>\n",
       "      <td>C9</td>\n",
       "      <td>E86</td>\n",
       "      <td>983.394865</td>\n",
       "      <td>914.078289</td>\n",
       "      <td>894.023282</td>\n",
       "      <td>867.127306</td>\n",
       "      <td>X1</td>\n",
       "    </tr>\n",
       "    <tr>\n",
       "      <th>3694</th>\n",
       "      <td>B5</td>\n",
       "      <td>D4</td>\n",
       "      <td>C9</td>\n",
       "      <td>E87</td>\n",
       "      <td>909.340532</td>\n",
       "      <td>897.167475</td>\n",
       "      <td>856.459905</td>\n",
       "      <td>808.989727</td>\n",
       "      <td>X1</td>\n",
       "    </tr>\n",
       "  </tbody>\n",
       "</table>\n",
       "<p>3693 rows × 9 columns</p>\n",
       "</div>"
      ],
      "text/plain": [
       "     CompanyName Financial Department Financial AccountGroup VendorName  \\\n",
       "0             B0                   D0                     C0         E0   \n",
       "1             B0                   D0                     C0         E1   \n",
       "2             B0                   D0                     C0         E2   \n",
       "3             B0                   D0                     C0         E3   \n",
       "4             B0                   D0                     C1         E4   \n",
       "...          ...                  ...                    ...        ...   \n",
       "3690          B5                  D11                     C5        E29   \n",
       "3691          B5                   D4                     C9        E84   \n",
       "3692          B5                   D4                     C9        E85   \n",
       "3693          B5                   D4                     C9        E86   \n",
       "3694          B5                   D4                     C9        E87   \n",
       "\n",
       "      Amount Month 1  Amount Month 2  Amount Month 3  Amount Month 4 Category  \n",
       "0         930.076541      897.167475      855.332105      837.175251       X0  \n",
       "1         929.726216      897.167475      856.459905      837.175251       X0  \n",
       "2         930.076541      897.167475      856.459905      837.096763       X0  \n",
       "3         926.513586      897.167475      856.459905      837.175251       X0  \n",
       "4         930.076541      897.167475      856.459905      836.399490       X0  \n",
       "...              ...             ...             ...             ...      ...  \n",
       "3690      930.076541      897.167475      856.459905      830.824465       X1  \n",
       "3691      560.500815      662.705398      433.427933      423.173581       X1  \n",
       "3692      930.076541      897.167475      856.459905      837.175251       X0  \n",
       "3693      983.394865      914.078289      894.023282      867.127306       X1  \n",
       "3694      909.340532      897.167475      856.459905      808.989727       X1  \n",
       "\n",
       "[3693 rows x 9 columns]"
      ]
     },
     "execution_count": 132,
     "metadata": {},
     "output_type": "execute_result"
    }
   ],
   "source": [
    "df"
   ]
  },
  {
   "cell_type": "code",
   "execution_count": 133,
   "id": "f0cf2d33",
   "metadata": {},
   "outputs": [],
   "source": [
    "#Removing all null values\n",
    "df = df.dropna()"
   ]
  },
  {
   "cell_type": "code",
   "execution_count": 134,
   "id": "a5d79067",
   "metadata": {},
   "outputs": [
    {
     "name": "stdout",
     "output_type": "stream",
     "text": [
      "     CompanyName Financial Department Financial AccountGroup VendorName  \\\n",
      "0             B0                   D0                     C0         E0   \n",
      "1             B0                   D0                     C0         E1   \n",
      "2             B0                   D0                     C0         E2   \n",
      "3             B0                   D0                     C0         E3   \n",
      "4             B0                   D0                     C1         E4   \n",
      "...          ...                  ...                    ...        ...   \n",
      "3690          B5                  D11                     C5        E29   \n",
      "3691          B5                   D4                     C9        E84   \n",
      "3692          B5                   D4                     C9        E85   \n",
      "3693          B5                   D4                     C9        E86   \n",
      "3694          B5                   D4                     C9        E87   \n",
      "\n",
      "      Amount Month 1  Amount Month 2  Amount Month 3  Amount Month 4 Category  \n",
      "0         930.076541      897.167475      855.332105      837.175251       X0  \n",
      "1         929.726216      897.167475      856.459905      837.175251       X0  \n",
      "2         930.076541      897.167475      856.459905      837.096763       X0  \n",
      "3         926.513586      897.167475      856.459905      837.175251       X0  \n",
      "4         930.076541      897.167475      856.459905      836.399490       X0  \n",
      "...              ...             ...             ...             ...      ...  \n",
      "3690      930.076541      897.167475      856.459905      830.824465       X1  \n",
      "3691      560.500815      662.705398      433.427933      423.173581       X1  \n",
      "3692      930.076541      897.167475      856.459905      837.175251       X0  \n",
      "3693      983.394865      914.078289      894.023282      867.127306       X1  \n",
      "3694      909.340532      897.167475      856.459905      808.989727       X1  \n",
      "\n",
      "[3693 rows x 9 columns]\n"
     ]
    }
   ],
   "source": [
    "print(df)"
   ]
  },
  {
   "cell_type": "code",
   "execution_count": 139,
   "id": "f5fc3272",
   "metadata": {},
   "outputs": [],
   "source": [
    "#Normal Distribution of Data \n",
    "def bar_plot(variable):\n",
    "    \n",
    "    var = df[variable]\n",
    "    variable_values = var.value_counts()\n",
    "    \n",
    "    plt.figure(figsize = (9,3))\n",
    "    plt.bar(variable_values.index,variable_values)\n",
    "    plt.ylabel(\"Frequency\")\n",
    "    plt.xlabel(variable)\n",
    "    plt.show()\n",
    "    print(\"{}:\\n{}\".format(variable,variable_values))"
   ]
  },
  {
   "cell_type": "code",
   "execution_count": 140,
   "id": "a5b296c2",
   "metadata": {},
   "outputs": [
    {
     "name": "stdout",
     "output_type": "stream",
     "text": [
      "Categorical variables:\n",
      "Index(['CompanyName', 'Financial Department', 'Financial AccountGroup',\n",
      "       'VendorName', 'Category'],\n",
      "      dtype='object')\n"
     ]
    }
   ],
   "source": [
    "categorical = (df.dtypes == \"object\")\n",
    "categorical_list = (categorical[categorical].index)\n",
    "print(\"Categorical variables:\")\n",
    "print(categorical_list)"
   ]
  },
  {
   "cell_type": "code",
   "execution_count": 142,
   "id": "01676501",
   "metadata": {},
   "outputs": [
    {
     "data": {
      "image/png": "[encoded data removed]",
      "text/plain": [
       "<Figure size 648x216 with 1 Axes>"
      ]
     },
     "metadata": {},
     "output_type": "display_data"
    },
    {
     "name": "stdout",
     "output_type": "stream",
     "text": [
      "CompanyName:\n",
      "B3    1341\n",
      "B1    1134\n",
      "B5     346\n",
      "B2     345\n",
      "B0     303\n",
      "B4     224\n",
      "Name: CompanyName, dtype: int64\n"
     ]
    },
    {
     "data": {
      "image/png": "[encoded data removed]",
      "text/plain": [
       "<Figure size 648x216 with 1 Axes>"
      ]
     },
     "metadata": {},
     "output_type": "display_data"
    },
    {
     "name": "stdout",
     "output_type": "stream",
     "text": [
      "Financial Department:\n",
      "D5     784\n",
      "D1     660\n",
      "D2     425\n",
      "D11    280\n",
      "D0     264\n",
      "D18    219\n",
      "D9     186\n",
      "D17    176\n",
      "D8     166\n",
      "D10     74\n",
      "D3      72\n",
      "D7      71\n",
      "D12     60\n",
      "D21     56\n",
      "D6      47\n",
      "D20     37\n",
      "D4      36\n",
      "D15     30\n",
      "D14     16\n",
      "D22     16\n",
      "D16     10\n",
      "D19      6\n",
      "D13      2\n",
      "Name: Financial Department, dtype: int64\n"
     ]
    },
    {
     "data": {
      "image/png": "[encoded data removed]",
      "text/plain": [
       "<Figure size 648x216 with 1 Axes>"
      ]
     },
     "metadata": {},
     "output_type": "display_data"
    },
    {
     "name": "stdout",
     "output_type": "stream",
     "text": [
      "Financial AccountGroup:\n",
      "C4     1017\n",
      "C0      897\n",
      "C2      506\n",
      "C7      411\n",
      "C8      278\n",
      "C5      237\n",
      "C1       99\n",
      "C10      94\n",
      "C6       80\n",
      "C9       36\n",
      "C3       19\n",
      "C12      16\n",
      "C11       3\n",
      "Name: Financial AccountGroup, dtype: int64\n"
     ]
    },
    {
     "data": {
      "image/png": "[encoded data removed]",
      "text/plain": [
       "<Figure size 648x216 with 1 Axes>"
      ]
     },
     "metadata": {},
     "output_type": "display_data"
    },
    {
     "name": "stdout",
     "output_type": "stream",
     "text": [
      "VendorName:\n",
      "E528     55\n",
      "E30      38\n",
      "E25      35\n",
      "E29      32\n",
      "E28      28\n",
      "         ..\n",
      "E1265     1\n",
      "E541      1\n",
      "E635      1\n",
      "E503      1\n",
      "E1130     1\n",
      "Name: VendorName, Length: 1292, dtype: int64\n"
     ]
    },
    {
     "data": {
      "image/png": "[encoded data removed]",
      "text/plain": [
       "<Figure size 648x216 with 1 Axes>"
      ]
     },
     "metadata": {},
     "output_type": "display_data"
    },
    {
     "name": "stdout",
     "output_type": "stream",
     "text": [
      "Category:\n",
      "X0    3136\n",
      "X1     231\n",
      "X3     194\n",
      "X2     117\n",
      "X4      15\n",
      "Name: Category, dtype: int64\n"
     ]
    }
   ],
   "source": [
    "sns.set_style(\"darkgrid\")\n",
    "categorical_varibles = ['CompanyName', 'Financial Department', 'Financial AccountGroup',\n",
    "       'VendorName', 'Category']\n",
    "for c in categorical_varibles:\n",
    "    bar_plot(c)"
   ]
  },
  {
   "cell_type": "code",
   "execution_count": null,
   "id": "a2018443",
   "metadata": {},
   "outputs": [],
   "source": []
  }
 ],
 "metadata": {
  "kernelspec": {
   "display_name": "Python 3",
   "language": "python",
   "name": "python3"
  },
  "language_info": {
   "codemirror_mode": {
    "name": "ipython",
    "version": 3
   },
   "file_extension": ".py",
   "mimetype": "text/x-python",
   "name": "python",
   "nbconvert_exporter": "python",
   "pygments_lexer": "ipython3",
   "version": "3.8.8"
  }
 },
 "nbformat": 4,
 "nbformat_minor": 5
}
